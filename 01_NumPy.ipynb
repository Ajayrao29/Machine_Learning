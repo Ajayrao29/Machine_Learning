{
  "nbformat": 4,
  "nbformat_minor": 0,
  "metadata": {
    "colab": {
      "provenance": [],
      "authorship_tag": "ABX9TyPGJk3Sn57k1/CWHuoE97hO",
      "include_colab_link": true
    },
    "kernelspec": {
      "name": "python3",
      "display_name": "Python 3"
    },
    "language_info": {
      "name": "python"
    }
  },
  "cells": [
    {
      "cell_type": "markdown",
      "metadata": {
        "id": "view-in-github",
        "colab_type": "text"
      },
      "source": [
        "<a href=\"https://colab.research.google.com/github/Ajayrao29/Machine_Learning_Course/blob/main/01_NumPy.ipynb\" target=\"_parent\"><img src=\"https://colab.research.google.com/assets/colab-badge.svg\" alt=\"Open In Colab\"/></a>"
      ]
    },
    {
      "cell_type": "markdown",
      "source": [
        "#Numpy - Numerical Python\n",
        "\n",
        "\n",
        "\n",
        "Advantages of NumPy Arrays :\n",
        "\n",
        "1. Allows several Mathematical Operations.\n",
        "2. Faster Operations.\n",
        "\n",
        "\n",
        " NumPy Documentation :  https://numpy.org/doc/ (refer this to learn more about NumPy)"
      ],
      "metadata": {
        "id": "-25IF-8TiEeO"
      }
    },
    {
      "cell_type": "code",
      "execution_count": 19,
      "metadata": {
        "id": "HGqnbYHsiA6i"
      },
      "outputs": [],
      "source": [
        "#importing numpy library\n",
        "import numpy as np"
      ]
    },
    {
      "cell_type": "markdown",
      "source": [
        "#List vs NumPy - Time Taken"
      ],
      "metadata": {
        "id": "-irjQbi6kOI2"
      }
    },
    {
      "cell_type": "code",
      "source": [
        "from time import process_time\n",
        " #time is someother library from where we are importing process time."
      ],
      "metadata": {
        "id": "ma-LFqiVkD22"
      },
      "execution_count": 2,
      "outputs": []
    },
    {
      "cell_type": "markdown",
      "source": [
        "  Time taken by list"
      ],
      "metadata": {
        "id": "baqgwNM3tKwS"
      }
    },
    {
      "cell_type": "code",
      "source": [
        "#Example for evaluating the time taken by list\n",
        "list1 = [i for i in range(10000)] # creating a list\n",
        "\n",
        "start_time = process_time() # getting the start time\n",
        "\n",
        "list2 = [i+5 for i in list1] # in between, iterating through the list1 and adding 5 to each element\n",
        "\n",
        "end_time = process_time() # getting the end time\n",
        "\n",
        "print(end_time - start_time) #calcualting time taken"
      ],
      "metadata": {
        "colab": {
          "base_uri": "https://localhost:8080/"
        },
        "id": "_PcN3IiOkYPP",
        "outputId": "cc007716-fe78-414f-c110-6403baffe3b6"
      },
      "execution_count": 7,
      "outputs": [
        {
          "output_type": "stream",
          "name": "stdout",
          "text": [
            "0.0011198399999976516\n"
          ]
        }
      ]
    },
    {
      "cell_type": "markdown",
      "source": [
        "Time taken by NumPy array"
      ],
      "metadata": {
        "id": "OYCuFoi5uHhH"
      }
    },
    {
      "cell_type": "code",
      "source": [
        "np_array = np.array([i for i in range(10000)])\n",
        "\n",
        "start_time = process_time()\n",
        "\n",
        "np_array += 5  # np_array = np_array + 5\n",
        "\n",
        "end_time = process_time()\n",
        "\n",
        "print(end_time - start_time)"
      ],
      "metadata": {
        "colab": {
          "base_uri": "https://localhost:8080/"
        },
        "id": "Zg0j-ItruKFU",
        "outputId": "21fca90d-bef9-4863-de5e-de7608646924"
      },
      "execution_count": 11,
      "outputs": [
        {
          "output_type": "stream",
          "name": "stdout",
          "text": [
            "0.0005485560000018097\n"
          ]
        }
      ]
    },
    {
      "cell_type": "markdown",
      "source": [
        "So, we can say that NumPy operations are faster"
      ],
      "metadata": {
        "id": "DPWNtcdpueCT"
      }
    },
    {
      "cell_type": "markdown",
      "source": [
        "#NumPy Arrays"
      ],
      "metadata": {
        "id": "11yqb5MQurOO"
      }
    },
    {
      "cell_type": "code",
      "source": [
        "#list\n",
        "list1 = [1,2,3,4,5]\n",
        "print(list1)\n",
        "type(list1)"
      ],
      "metadata": {
        "colab": {
          "base_uri": "https://localhost:8080/"
        },
        "id": "L07zW5I5ujuM",
        "outputId": "e2d5b50e-4aad-4d15-b38d-2e57e49930d8"
      },
      "execution_count": 12,
      "outputs": [
        {
          "output_type": "stream",
          "name": "stdout",
          "text": [
            "[1, 2, 3, 4, 5]\n"
          ]
        },
        {
          "output_type": "execute_result",
          "data": {
            "text/plain": [
              "list"
            ]
          },
          "metadata": {},
          "execution_count": 12
        }
      ]
    },
    {
      "cell_type": "code",
      "source": [
        "np_array = np.array([1,2,3,4,5])\n",
        "print(np_array)\n",
        "type(np_array)"
      ],
      "metadata": {
        "colab": {
          "base_uri": "https://localhost:8080/"
        },
        "id": "_DltWh8mu3Cq",
        "outputId": "d5784531-1339-493b-b7d8-952df234eb2c"
      },
      "execution_count": 13,
      "outputs": [
        {
          "output_type": "stream",
          "name": "stdout",
          "text": [
            "[1 2 3 4 5]\n"
          ]
        },
        {
          "output_type": "execute_result",
          "data": {
            "text/plain": [
              "numpy.ndarray"
            ]
          },
          "metadata": {},
          "execution_count": 13
        }
      ]
    },
    {
      "cell_type": "markdown",
      "source": [
        "we find no commas in between the elements in NumPy array and the datatype is numpy.ndarray"
      ],
      "metadata": {
        "id": "0l7zpMxVvDPT"
      }
    },
    {
      "cell_type": "markdown",
      "source": [
        "#Creating Dimensional arrays and manipulations on them :"
      ],
      "metadata": {
        "id": "H2muxWWFvOsU"
      }
    },
    {
      "cell_type": "code",
      "source": [
        "#creating 1-d array\n",
        "a=np.array([1,2,3,4])\n",
        "print(a)"
      ],
      "metadata": {
        "colab": {
          "base_uri": "https://localhost:8080/"
        },
        "id": "OcTMGTzdvyWe",
        "outputId": "57760802-2367-4422-935c-2f700ce471f9"
      },
      "execution_count": 14,
      "outputs": [
        {
          "output_type": "stream",
          "name": "stdout",
          "text": [
            "[1 2 3 4]\n"
          ]
        }
      ]
    },
    {
      "cell_type": "code",
      "source": [
        "a.shape #gives you dimesions (it returns (4,) since it has 4 columns and 1-d)"
      ],
      "metadata": {
        "colab": {
          "base_uri": "https://localhost:8080/"
        },
        "id": "xScXEgLYwBry",
        "outputId": "3bdd296e-8499-4f67-8b5b-3454043b5cba"
      },
      "execution_count": 15,
      "outputs": [
        {
          "output_type": "execute_result",
          "data": {
            "text/plain": [
              "(4,)"
            ]
          },
          "metadata": {},
          "execution_count": 15
        }
      ]
    },
    {
      "cell_type": "code",
      "source": [
        "#creating 2-d array\n",
        "b = np.array([(1,2,3,4),(5,6,7,8)])\n",
        "print(b)\n",
        "b.shape #gives you dimesions (it returns (2,4) since it has 2 rows and 4 columns)"
      ],
      "metadata": {
        "colab": {
          "base_uri": "https://localhost:8080/"
        },
        "id": "D6dSAVjFwPDZ",
        "outputId": "79b79c1d-cffb-44f7-bae6-73cca573ef5a"
      },
      "execution_count": 16,
      "outputs": [
        {
          "output_type": "stream",
          "name": "stdout",
          "text": [
            "[[1 2 3 4]\n",
            " [5 6 7 8]]\n"
          ]
        },
        {
          "output_type": "execute_result",
          "data": {
            "text/plain": [
              "(2, 4)"
            ]
          },
          "metadata": {},
          "execution_count": 16
        }
      ]
    },
    {
      "cell_type": "code",
      "source": [
        "c=np.array([(1,2,3,4),(5,6,7,8)],dtype=float) # dtype represents floating point here\n",
        "print(c)                                      # default datatype is Integers"
      ],
      "metadata": {
        "colab": {
          "base_uri": "https://localhost:8080/"
        },
        "id": "zo81T08Wwsk0",
        "outputId": "eeb322d7-1063-4a6a-fd3a-6afbab030b14"
      },
      "execution_count": 17,
      "outputs": [
        {
          "output_type": "stream",
          "name": "stdout",
          "text": [
            "[[1. 2. 3. 4.]\n",
            " [5. 6. 7. 8.]]\n"
          ]
        }
      ]
    },
    {
      "cell_type": "markdown",
      "source": [
        "#Creating NumPy arrays with initial placeholders"
      ],
      "metadata": {
        "id": "tmlWPpbZySFw"
      }
    },
    {
      "cell_type": "code",
      "source": [
        "#Creating a numpy array of zeroes\n",
        "np_array = np.zeros((4,5)) # 4 is no.of rows and 5 is no.of columns that we specify\n",
        "print(np_array)"
      ],
      "metadata": {
        "colab": {
          "base_uri": "https://localhost:8080/"
        },
        "id": "QirsFuyQw9ZK",
        "outputId": "46482e0c-48f8-449f-969e-0740ef0e25a4"
      },
      "execution_count": 21,
      "outputs": [
        {
          "output_type": "stream",
          "name": "stdout",
          "text": [
            "[[0. 0. 0. 0. 0.]\n",
            " [0. 0. 0. 0. 0.]\n",
            " [0. 0. 0. 0. 0.]\n",
            " [0. 0. 0. 0. 0.]]\n"
          ]
        }
      ]
    },
    {
      "cell_type": "code",
      "source": [
        "#Creating a numpy arrays of ones\n",
        "np_array = np.ones((4,5))\n",
        "print(np_array)"
      ],
      "metadata": {
        "colab": {
          "base_uri": "https://localhost:8080/"
        },
        "id": "2O-i1dC6yqUt",
        "outputId": "02b1e750-33c6-4bf4-b60c-cb2768c75f27"
      },
      "execution_count": 22,
      "outputs": [
        {
          "output_type": "stream",
          "name": "stdout",
          "text": [
            "[[1. 1. 1. 1. 1.]\n",
            " [1. 1. 1. 1. 1.]\n",
            " [1. 1. 1. 1. 1.]\n",
            " [1. 1. 1. 1. 1.]]\n"
          ]
        }
      ]
    },
    {
      "cell_type": "markdown",
      "source": [
        "This np.zeros and np.ones is for 0's and 1's but for a particular value we can create like here under -"
      ],
      "metadata": {
        "id": "N6tqThNazPOq"
      }
    },
    {
      "cell_type": "code",
      "source": [
        "#Creating array of a particular value\n",
        "np_array = np.full((4,5),5) #4 is no.of.rows and 5 is no.of.columns in (4,5) and 5 is value\n",
        "print(np_array)"
      ],
      "metadata": {
        "colab": {
          "base_uri": "https://localhost:8080/"
        },
        "id": "Vt3THi4ezFj1",
        "outputId": "17bd3759-f48d-4314-864b-74139d2232d9"
      },
      "execution_count": 24,
      "outputs": [
        {
          "output_type": "stream",
          "name": "stdout",
          "text": [
            "[[5 5 5 5 5]\n",
            " [5 5 5 5 5]\n",
            " [5 5 5 5 5]\n",
            " [5 5 5 5 5]]\n"
          ]
        }
      ]
    },
    {
      "cell_type": "code",
      "source": [
        "#Creating an identity matrix\n",
        "a = np.eye(5) #5 is the dimension where both no.of rows and columns are equal to 5\n",
        "print(a)      # we use eye"
      ],
      "metadata": {
        "colab": {
          "base_uri": "https://localhost:8080/"
        },
        "id": "T5ncSYHJziPZ",
        "outputId": "ef325c27-ddbc-40b2-ad66-756cfcfb40f1"
      },
      "execution_count": 25,
      "outputs": [
        {
          "output_type": "stream",
          "name": "stdout",
          "text": [
            "[[1. 0. 0. 0. 0.]\n",
            " [0. 1. 0. 0. 0.]\n",
            " [0. 0. 1. 0. 0.]\n",
            " [0. 0. 0. 1. 0.]\n",
            " [0. 0. 0. 0. 1.]]\n"
          ]
        }
      ]
    },
    {
      "cell_type": "code",
      "source": [
        "#Creating NumPy array with random values\n",
        "b=np.random.random((4,5))\n",
        "print(b)  # all the values will be between 0 to 1 range"
      ],
      "metadata": {
        "colab": {
          "base_uri": "https://localhost:8080/"
        },
        "id": "ayXi6XbHz9P8",
        "outputId": "057ab0cd-3903-4469-b56e-821da546d617"
      },
      "execution_count": 26,
      "outputs": [
        {
          "output_type": "stream",
          "name": "stdout",
          "text": [
            "[[0.35111419 0.35646209 0.74252055 0.46064853 0.30004317]\n",
            " [0.27083    0.20207295 0.63260564 0.38388262 0.5495525 ]\n",
            " [0.3358334  0.17374643 0.13362812 0.78465533 0.3108276 ]\n",
            " [0.42259902 0.12166444 0.51507503 0.13141161 0.85659735]]\n"
          ]
        }
      ]
    },
    {
      "cell_type": "code",
      "source": [
        "#Creating a NumPy array with random values (Specific range)\n",
        "c = np.random.randint(10,100,(3,5)) #10,100 is range and 4,5 is dimensions\n",
        "print(c)"
      ],
      "metadata": {
        "colab": {
          "base_uri": "https://localhost:8080/"
        },
        "id": "mmcnGEPz0Tql",
        "outputId": "fa0dcce4-153c-45c5-dc94-045f0e8734c3"
      },
      "execution_count": 28,
      "outputs": [
        {
          "output_type": "stream",
          "name": "stdout",
          "text": [
            "[[72 10 16 82 29]\n",
            " [91 91 26 79 44]\n",
            " [72 73 22 49 33]]\n"
          ]
        }
      ]
    },
    {
      "cell_type": "code",
      "source": [
        "# Creating a NumPy array with evenly space values (specifying no.of values needed)\n",
        "d = np.linspace(10,30,6) #10,30 is range and 6 is no.of values we want between that range\n",
        "print(d)"
      ],
      "metadata": {
        "colab": {
          "base_uri": "https://localhost:8080/"
        },
        "id": "G4HCopiK0xn5",
        "outputId": "3c2c0152-2f21-43f3-99e8-8bd7b8446f3b"
      },
      "execution_count": 29,
      "outputs": [
        {
          "output_type": "stream",
          "name": "stdout",
          "text": [
            "[10. 14. 18. 22. 26. 30.]\n"
          ]
        }
      ]
    },
    {
      "cell_type": "code",
      "source": [
        "# Creating a NumPy array with evenly space values (specifying the step)\n",
        "e = np.arange(10,30,5) #10,30 is range and 5 is step (each time add up by 5 and return in 10,30 range)\n",
        "print(e)"
      ],
      "metadata": {
        "colab": {
          "base_uri": "https://localhost:8080/"
        },
        "id": "SJIy4yGz1NWj",
        "outputId": "2289489b-7009-4643-ab45-044b5357a135"
      },
      "execution_count": 30,
      "outputs": [
        {
          "output_type": "stream",
          "name": "stdout",
          "text": [
            "[10 15 20 25]\n"
          ]
        }
      ]
    },
    {
      "cell_type": "code",
      "source": [
        "# Convert a list to a NumPy array\n",
        "list2 = [10,20,20,20,50]\n",
        "\n",
        "np_array = np.asarray(list2)\n",
        "print(np_array)\n",
        "type(np_array) #returns numpy.ndarray (type of array)"
      ],
      "metadata": {
        "colab": {
          "base_uri": "https://localhost:8080/"
        },
        "id": "zWZW8YQL1p70",
        "outputId": "bbc60e9e-b674-40e6-803c-4961db643be5"
      },
      "execution_count": 31,
      "outputs": [
        {
          "output_type": "stream",
          "name": "stdout",
          "text": [
            "[10 20 20 20 50]\n"
          ]
        },
        {
          "output_type": "execute_result",
          "data": {
            "text/plain": [
              "numpy.ndarray"
            ]
          },
          "metadata": {},
          "execution_count": 31
        }
      ]
    },
    {
      "cell_type": "markdown",
      "source": [
        "#Analysing a NumPy array"
      ],
      "metadata": {
        "id": "R7oCVdxd21m6"
      }
    },
    {
      "cell_type": "code",
      "source": [
        "c = np.random.randint(10,90,(5,5)) # Here 10,50 is range and 5,5 is the dimensions\n",
        "print(c)"
      ],
      "metadata": {
        "colab": {
          "base_uri": "https://localhost:8080/"
        },
        "id": "3AOIOoMY2H6F",
        "outputId": "9f0e6112-229d-4757-e43a-be605d4345b4"
      },
      "execution_count": 32,
      "outputs": [
        {
          "output_type": "stream",
          "name": "stdout",
          "text": [
            "[[67 89 76 27 53]\n",
            " [25 88 43 26 84]\n",
            " [45 49 84 35 82]\n",
            " [34 45 23 42 66]\n",
            " [69 79 39 53 87]]\n"
          ]
        }
      ]
    },
    {
      "cell_type": "code",
      "source": [
        "# array dimension\n",
        "print(c.ndim) # ndim gives the dimension of array"
      ],
      "metadata": {
        "colab": {
          "base_uri": "https://localhost:8080/"
        },
        "id": "_9vga46J3D2H",
        "outputId": "2f5d7331-bccf-499d-bd48-108bec778338"
      },
      "execution_count": 33,
      "outputs": [
        {
          "output_type": "stream",
          "name": "stdout",
          "text": [
            "2\n"
          ]
        }
      ]
    },
    {
      "cell_type": "code",
      "source": [
        "# No.of elements in the array\n",
        "print(c.size)"
      ],
      "metadata": {
        "colab": {
          "base_uri": "https://localhost:8080/"
        },
        "id": "jX9iXHGm3WOG",
        "outputId": "a9cd4c1d-4e32-418f-e7c3-080907854eae"
      },
      "execution_count": 34,
      "outputs": [
        {
          "output_type": "stream",
          "name": "stdout",
          "text": [
            "25\n"
          ]
        }
      ]
    },
    {
      "cell_type": "code",
      "source": [
        "# Checking the data type of elements in the array\n",
        "print(c.dtype) # returns (int64) 64 bit integers values"
      ],
      "metadata": {
        "colab": {
          "base_uri": "https://localhost:8080/"
        },
        "id": "wdT8eQbt3fKX",
        "outputId": "a1509466-88ea-46bf-dc2e-68420c052138"
      },
      "execution_count": 35,
      "outputs": [
        {
          "output_type": "stream",
          "name": "stdout",
          "text": [
            "int64\n"
          ]
        }
      ]
    },
    {
      "cell_type": "markdown",
      "source": [
        "#Mathematical Operations on NumPy array"
      ],
      "metadata": {
        "id": "Z43OaN-23q_8"
      }
    },
    {
      "cell_type": "code",
      "source": [
        "list1 = [1,2,3,4,5]\n",
        "list2 = [6,7,8,9,10]\n",
        "print(list1 + list2) # Concatenate or joins two list and not addition"
      ],
      "metadata": {
        "colab": {
          "base_uri": "https://localhost:8080/"
        },
        "id": "JAMhiPBq312r",
        "outputId": "7c5d0ad8-e007-495d-bf6b-2591c67398ae"
      },
      "execution_count": 36,
      "outputs": [
        {
          "output_type": "stream",
          "name": "stdout",
          "text": [
            "[1, 2, 3, 4, 5, 6, 7, 8, 9, 10]\n"
          ]
        }
      ]
    },
    {
      "cell_type": "code",
      "source": [
        "a = np.random.randint(0,10,(3,3))\n",
        "b = np.random.randint(10,20,(3,3))\n",
        "print(a)\n",
        "print(b)"
      ],
      "metadata": {
        "colab": {
          "base_uri": "https://localhost:8080/"
        },
        "id": "wr1wGZty4Dwz",
        "outputId": "78faf446-4462-4317-c01f-8b5e092cd360"
      },
      "execution_count": 37,
      "outputs": [
        {
          "output_type": "stream",
          "name": "stdout",
          "text": [
            "[[1 2 0]\n",
            " [5 1 7]\n",
            " [3 2 2]]\n",
            "[[11 10 16]\n",
            " [15 10 18]\n",
            " [12 15 15]]\n"
          ]
        }
      ]
    },
    {
      "cell_type": "code",
      "source": [
        "print(a+b) # Addition\n",
        "print(a-b) # Subtraction\n",
        "print(a*b) # Multiplication\n",
        "print(a/b) # Division"
      ],
      "metadata": {
        "colab": {
          "base_uri": "https://localhost:8080/"
        },
        "id": "vZjugsUy4Y9c",
        "outputId": "5a929a22-1741-4cc1-87d4-99fd8abdad26"
      },
      "execution_count": 38,
      "outputs": [
        {
          "output_type": "stream",
          "name": "stdout",
          "text": [
            "[[12 12 16]\n",
            " [20 11 25]\n",
            " [15 17 17]]\n",
            "[[-10  -8 -16]\n",
            " [-10  -9 -11]\n",
            " [ -9 -13 -13]]\n",
            "[[ 11  20   0]\n",
            " [ 75  10 126]\n",
            " [ 36  30  30]]\n",
            "[[0.09090909 0.2        0.        ]\n",
            " [0.33333333 0.1        0.38888889]\n",
            " [0.25       0.13333333 0.13333333]]\n"
          ]
        }
      ]
    },
    {
      "cell_type": "markdown",
      "source": [
        "or you can also do this way -->"
      ],
      "metadata": {
        "id": "QL-HLwcM44a3"
      }
    },
    {
      "cell_type": "code",
      "source": [
        "print(np.add(a,b))\n",
        "print(np.subtract(a,b))\n",
        "print(np.multiply(a,b))\n",
        "print(np.divide(a,b))"
      ],
      "metadata": {
        "colab": {
          "base_uri": "https://localhost:8080/"
        },
        "id": "HOXxWmcz48d7",
        "outputId": "d84f3b3a-aef5-48b7-cfd8-235605414060"
      },
      "execution_count": 39,
      "outputs": [
        {
          "output_type": "stream",
          "name": "stdout",
          "text": [
            "[[12 12 16]\n",
            " [20 11 25]\n",
            " [15 17 17]]\n",
            "[[-10  -8 -16]\n",
            " [-10  -9 -11]\n",
            " [ -9 -13 -13]]\n",
            "[[ 11  20   0]\n",
            " [ 75  10 126]\n",
            " [ 36  30  30]]\n",
            "[[0.09090909 0.2        0.        ]\n",
            " [0.33333333 0.1        0.38888889]\n",
            " [0.25       0.13333333 0.13333333]]\n"
          ]
        }
      ]
    },
    {
      "cell_type": "markdown",
      "source": [
        "#Array Manipulation"
      ],
      "metadata": {
        "id": "ZHCxkaG_5VDn"
      }
    },
    {
      "cell_type": "code",
      "source": [
        "arr = np.random.randint(0,10,(2,3))\n",
        "print(arr)\n",
        "print(arr.shape)"
      ],
      "metadata": {
        "colab": {
          "base_uri": "https://localhost:8080/"
        },
        "id": "rNSEF2ZK5UaG",
        "outputId": "e323ef95-9b4b-4ced-a2b6-093deb572310"
      },
      "execution_count": 43,
      "outputs": [
        {
          "output_type": "stream",
          "name": "stdout",
          "text": [
            "[[9 7 4]\n",
            " [4 2 5]]\n",
            "(2, 3)\n"
          ]
        }
      ]
    },
    {
      "cell_type": "code",
      "source": [
        "#transpose\n",
        "trans=np.transpose(arr)\n",
        "print(trans)\n",
        "print(trans.shape)"
      ],
      "metadata": {
        "colab": {
          "base_uri": "https://localhost:8080/"
        },
        "id": "jRIttwzn5rwL",
        "outputId": "2709dccf-e50f-4050-ae05-6044417bf9f6"
      },
      "execution_count": 44,
      "outputs": [
        {
          "output_type": "stream",
          "name": "stdout",
          "text": [
            "[[9 4]\n",
            " [7 2]\n",
            " [4 5]]\n",
            "(3, 2)\n"
          ]
        }
      ]
    },
    {
      "cell_type": "markdown",
      "source": [
        "or you can do this way -->"
      ],
      "metadata": {
        "id": "IOYFe_lg55j2"
      }
    },
    {
      "cell_type": "code",
      "source": [
        "trans2 = arr.T\n",
        "print(trans2)\n",
        "print(trans2.shape)"
      ],
      "metadata": {
        "colab": {
          "base_uri": "https://localhost:8080/"
        },
        "id": "-h6nm41Z5735",
        "outputId": "dac85e8b-3dfd-429e-d34d-1c05cc7d0798"
      },
      "execution_count": 45,
      "outputs": [
        {
          "output_type": "stream",
          "name": "stdout",
          "text": [
            "[[9 4]\n",
            " [7 2]\n",
            " [4 5]]\n",
            "(3, 2)\n"
          ]
        }
      ]
    },
    {
      "cell_type": "code",
      "source": [
        "# Reshaping a array\n",
        "a = np.random.randint(0,10,(2,3))\n",
        "print(a)\n",
        "print(a.shape)"
      ],
      "metadata": {
        "colab": {
          "base_uri": "https://localhost:8080/"
        },
        "id": "nRpZCv_R5xkH",
        "outputId": "fa18778f-bb2f-40d8-dc5f-0c044548d1f2"
      },
      "execution_count": 46,
      "outputs": [
        {
          "output_type": "stream",
          "name": "stdout",
          "text": [
            "[[7 4 7]\n",
            " [7 7 6]]\n",
            "(2, 3)\n"
          ]
        }
      ]
    },
    {
      "cell_type": "code",
      "source": [
        "#Reshaping above array\n",
        "b = a.reshape(3,2)\n",
        "print(b)\n",
        "print(b.shape)"
      ],
      "metadata": {
        "colab": {
          "base_uri": "https://localhost:8080/"
        },
        "id": "k0sA5kGj6P_L",
        "outputId": "e13fd29b-2ea8-4e08-9fb9-187eef21caf8"
      },
      "execution_count": 47,
      "outputs": [
        {
          "output_type": "stream",
          "name": "stdout",
          "text": [
            "[[7 4]\n",
            " [7 7]\n",
            " [7 6]]\n",
            "(3, 2)\n"
          ]
        }
      ]
    }
  ]
}