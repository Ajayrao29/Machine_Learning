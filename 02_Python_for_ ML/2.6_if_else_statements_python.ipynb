{
  "nbformat": 4,
  "nbformat_minor": 0,
  "metadata": {
    "colab": {
      "provenance": [],
      "authorship_tag": "ABX9TyNPKqgxuz0oRTxMoydw6iig",
      "include_colab_link": true
    },
    "kernelspec": {
      "name": "python3",
      "display_name": "Python 3"
    },
    "language_info": {
      "name": "python"
    }
  },
  "cells": [
    {
      "cell_type": "markdown",
      "metadata": {
        "id": "view-in-github",
        "colab_type": "text"
      },
      "source": [
        "<a href=\"https://colab.research.google.com/github/Ajayrao29/Machine_Learning_Course/blob/main/06_if_else_statements_python.ipynb\" target=\"_parent\"><img src=\"https://colab.research.google.com/assets/colab-badge.svg\" alt=\"Open In Colab\"/></a>"
      ]
    },
    {
      "cell_type": "markdown",
      "source": [
        "simple if else statement"
      ],
      "metadata": {
        "id": "bXJF8P2xdr9N"
      }
    },
    {
      "cell_type": "code",
      "execution_count": 1,
      "metadata": {
        "colab": {
          "base_uri": "https://localhost:8080/"
        },
        "id": "ynh5iSaocwTL",
        "outputId": "4e7d01a8-3ad1-4d66-b6c9-0177552d842a"
      },
      "outputs": [
        {
          "output_type": "stream",
          "name": "stdout",
          "text": [
            "a is greater than b\n"
          ]
        }
      ],
      "source": [
        "a = 30\n",
        "b = 20\n",
        "if a>b:\n",
        "    print(\"a is greater than b\")\n",
        "else:\n",
        "    print(\"b is greater than a\")"
      ]
    },
    {
      "cell_type": "markdown",
      "source": [
        "Input from user directly while running without assigning values of a,b before"
      ],
      "metadata": {
        "id": "d1XZAZNxeJbW"
      }
    },
    {
      "cell_type": "code",
      "source": [
        "a=int(input(\"enter the value of a :\"))\n",
        "b=int(input(\"enter the value of b :\"))\n",
        "if a>b:\n",
        "    print(\"a is greater than b\")\n",
        "else:\n",
        "    print(\"b is greater than a\")"
      ],
      "metadata": {
        "colab": {
          "base_uri": "https://localhost:8080/"
        },
        "id": "2BWZ1ReOeUxR",
        "outputId": "1f266997-3330-4c1e-98d2-ec465e0f107e"
      },
      "execution_count": 4,
      "outputs": [
        {
          "output_type": "stream",
          "name": "stdout",
          "text": [
            "enter the value of a :5\n",
            "enter the value of b :10\n",
            "b is greater than a\n"
          ]
        }
      ]
    },
    {
      "cell_type": "markdown",
      "source": [
        "if elif (else+if) else statement"
      ],
      "metadata": {
        "id": "PlGQRZnsekQ5"
      }
    },
    {
      "cell_type": "code",
      "source": [
        "a=15\n",
        "b=25\n",
        "c=30\n",
        "if a>b and a>c:\n",
        "    print(\"a is the greatest number\")\n",
        "elif b>a and b>c:\n",
        "    print(\"b is the greatest number\")\n",
        "else:\n",
        "    print(\"c is the greatest number\")"
      ],
      "metadata": {
        "colab": {
          "base_uri": "https://localhost:8080/"
        },
        "id": "kDIA1v3merG1",
        "outputId": "1d5f8d49-ce2c-4370-caf3-081491b769f9"
      },
      "execution_count": 5,
      "outputs": [
        {
          "output_type": "stream",
          "name": "stdout",
          "text": [
            "c is the greatest number\n"
          ]
        }
      ]
    },
    {
      "cell_type": "markdown",
      "source": [
        "Nested if"
      ],
      "metadata": {
        "id": "O_A_lfh3e_au"
      }
    },
    {
      "cell_type": "code",
      "source": [
        "a=10\n",
        "b=15\n",
        "c=5\n",
        "if a>b:\n",
        "    if a>c:\n",
        "        print(\"a is the greatest number\")\n",
        "    else:\n",
        "        print(\"c is the greatest number\")\n",
        "elif b>a:\n",
        "    if b>c:\n",
        "        print(\"b is the greatest number\")"
      ],
      "metadata": {
        "id": "uDH2faX9fAhL"
      },
      "execution_count": null,
      "outputs": []
    },
    {
      "cell_type": "markdown",
      "source": [
        "We can perform the above problem other way too"
      ],
      "metadata": {
        "id": "CkvqSf5ofeTh"
      }
    },
    {
      "cell_type": "code",
      "source": [
        "a=10\n",
        "b=15\n",
        "c=5\n",
        "if a>b:\n",
        "    if a>c:\n",
        "        print(\"a is the greatest number\")\n",
        "    else:\n",
        "        print(\"c is the greatest number\")\n",
        "else:\n",
        "  if(b>c):\n",
        "    print(\"b is the greatest number\")\n",
        "  else:\n",
        "    print(\"c is the greatest number\")"
      ],
      "metadata": {
        "colab": {
          "base_uri": "https://localhost:8080/"
        },
        "id": "aUsjv_QKfi79",
        "outputId": "bc2cb93e-2f23-467d-d5e4-eeba4c9981fb"
      },
      "execution_count": 6,
      "outputs": [
        {
          "output_type": "stream",
          "name": "stdout",
          "text": [
            "b is the greatest number\n"
          ]
        }
      ]
    }
  ]
}