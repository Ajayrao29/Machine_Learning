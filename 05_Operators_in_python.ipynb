{
  "nbformat": 4,
  "nbformat_minor": 0,
  "metadata": {
    "colab": {
      "provenance": [],
      "authorship_tag": "ABX9TyPJlGTHCxjH4uYIErs5hNAo",
      "include_colab_link": true
    },
    "kernelspec": {
      "name": "python3",
      "display_name": "Python 3"
    },
    "language_info": {
      "name": "python"
    }
  },
  "cells": [
    {
      "cell_type": "markdown",
      "metadata": {
        "id": "view-in-github",
        "colab_type": "text"
      },
      "source": [
        "<a href=\"https://colab.research.google.com/github/Ajayrao29/Machine_Learning_Course/blob/main/05_Operators_in_python.ipynb\" target=\"_parent\"><img src=\"https://colab.research.google.com/assets/colab-badge.svg\" alt=\"Open In Colab\"/></a>"
      ]
    },
    {
      "cell_type": "markdown",
      "source": [
        "#Operators in Python :\n",
        "\n",
        "1.   Arithmetic Operators\n",
        "2.   Assignment Operators\n",
        "3.   Comparison Operators\n",
        "4.   Logical Operators\n",
        "5.   Identity Operators\n",
        "6.   Membership Operators\n",
        "\n",
        "\n"
      ],
      "metadata": {
        "id": "hM636OOxACkW"
      }
    },
    {
      "cell_type": "markdown",
      "source": [
        "#1.Arithmetic Operators"
      ],
      "metadata": {
        "id": "WZAxAz95AvVU"
      }
    },
    {
      "cell_type": "code",
      "execution_count": 1,
      "metadata": {
        "colab": {
          "base_uri": "https://localhost:8080/"
        },
        "id": "yqeVFfQs_x0G",
        "outputId": "7827372f-1c21-4b5b-afbc-d544f7b16d98"
      },
      "outputs": [
        {
          "output_type": "stream",
          "name": "stdout",
          "text": [
            "30\n",
            "-10\n",
            "200\n",
            "0.5\n",
            "10\n",
            "100000000000000000000\n"
          ]
        }
      ],
      "source": [
        "a=10\n",
        "b=20\n",
        "print(a+b) #sum\n",
        "print(a-b) #difference\n",
        "print(a*b) #multiplication\n",
        "print(a/b) #division(gives quotient)\n",
        "print(a%b) #modulus(gives remainder)\n",
        "print(a**b) #exponent(a^b)"
      ]
    },
    {
      "cell_type": "markdown",
      "source": [
        "#2.Assignment Operators"
      ],
      "metadata": {
        "id": "lIQiYr9ECY0f"
      }
    },
    {
      "cell_type": "code",
      "source": [
        "a=5\n",
        "print(a)"
      ],
      "metadata": {
        "colab": {
          "base_uri": "https://localhost:8080/"
        },
        "id": "cvtlDiYvCrIJ",
        "outputId": "2aece9a8-8a84-4779-dd92-a6a6017da61c"
      },
      "execution_count": 2,
      "outputs": [
        {
          "output_type": "stream",
          "name": "stdout",
          "text": [
            "5\n"
          ]
        }
      ]
    },
    {
      "cell_type": "code",
      "source": [
        "a=5\n",
        "a+=20 #a=a+20-->a=5+20\n",
        "print(a)"
      ],
      "metadata": {
        "colab": {
          "base_uri": "https://localhost:8080/"
        },
        "id": "wC6_eTtUCtiX",
        "outputId": "d8c696b8-97fd-4c44-cd3d-83e67b9f1cd5"
      },
      "execution_count": 3,
      "outputs": [
        {
          "output_type": "stream",
          "name": "stdout",
          "text": [
            "25\n"
          ]
        }
      ]
    },
    {
      "cell_type": "markdown",
      "source": [
        "Similarly like += we have other assignment operators such as :\n",
        "\n",
        "   -=  ; **=  ; /= ; **= ; %=  ;"
      ],
      "metadata": {
        "id": "WqC0IwvRDWHq"
      }
    },
    {
      "cell_type": "markdown",
      "source": [
        "#3.Comparison Operators"
      ],
      "metadata": {
        "id": "eC9eQDUODyVw"
      }
    },
    {
      "cell_type": "code",
      "source": [
        "a = 5\n",
        "b = 10\n",
        "print(a == b) #equal to\n",
        "print(a != b) #not equal to\n",
        "print(a > b) #greater than\n",
        "print(a < b) #less than\n",
        "print(a >= b) #greater than or equal to\n",
        "print(a <= b) #less thsn or equal to\n",
        "\n",
        "#returns boolean values"
      ],
      "metadata": {
        "colab": {
          "base_uri": "https://localhost:8080/"
        },
        "id": "e9WA7SWjDlED",
        "outputId": "22fea18e-45a5-44b1-856f-afd124eabf95"
      },
      "execution_count": 4,
      "outputs": [
        {
          "output_type": "stream",
          "name": "stdout",
          "text": [
            "False\n",
            "True\n",
            "False\n",
            "True\n",
            "False\n",
            "True\n"
          ]
        }
      ]
    },
    {
      "cell_type": "markdown",
      "source": [
        "#4.Logical Operators\n",
        "\n",
        "\n",
        "\n",
        "*   and\n",
        "*   or\n",
        "*   not\n",
        "\n"
      ],
      "metadata": {
        "id": "1HIOETWxFFxk"
      }
    },
    {
      "cell_type": "code",
      "source": [
        "a = 5\n",
        "b = 10\n",
        "print(a < b and b > a) #returns true if both statements are true\n",
        "print(a < b or b > a) #returns true if one of the statements is true\n",
        "print(not(a < b and b > a)) #reverse the result"
      ],
      "metadata": {
        "colab": {
          "base_uri": "https://localhost:8080/"
        },
        "id": "dqSNKOgzC95E",
        "outputId": "a3648730-6cb9-43e7-9bd1-0f109d8882c2"
      },
      "execution_count": 5,
      "outputs": [
        {
          "output_type": "stream",
          "name": "stdout",
          "text": [
            "True\n",
            "True\n",
            "False\n"
          ]
        }
      ]
    },
    {
      "cell_type": "markdown",
      "source": [
        "#5.Identity operator\n",
        "\n",
        "\n",
        "*   is\n",
        "*   is not\n",
        "\n"
      ],
      "metadata": {
        "id": "-ojduZd5FxTj"
      }
    },
    {
      "cell_type": "code",
      "source": [
        "a = 5\n",
        "b = 5\n",
        "print(a is b) #  gives boolean values ; true if both are same and vice-versa\n",
        "print(a is not b) #gives boolean values ; true if both are not same and vice-versa"
      ],
      "metadata": {
        "colab": {
          "base_uri": "https://localhost:8080/"
        },
        "id": "xJ5kbWgSF0-1",
        "outputId": "8f69f1c2-f177-45f0-89dc-42ee1fc06c02"
      },
      "execution_count": 7,
      "outputs": [
        {
          "output_type": "stream",
          "name": "stdout",
          "text": [
            "True\n",
            "False\n"
          ]
        }
      ]
    },
    {
      "cell_type": "markdown",
      "source": [
        "#6.Membership Operator\n",
        "\n",
        "*   in\n",
        "*   not in\n",
        "\n"
      ],
      "metadata": {
        "id": "LpsWy_3BGRay"
      }
    },
    {
      "cell_type": "code",
      "source": [
        "list1=[1,2,3,4,5]\n",
        "print(1 in list1) # gives boolean values ; true if present and vice-versa\n",
        "print(1 not in list1)\n",
        "print(6 in list1)\n",
        "print(6 not in list1) # gives boolean values ; true if not present and vice-versa"
      ],
      "metadata": {
        "colab": {
          "base_uri": "https://localhost:8080/"
        },
        "id": "M7g56NmHGTkN",
        "outputId": "634f8bcd-0358-4c5b-982c-f5c046fa41d9"
      },
      "execution_count": 8,
      "outputs": [
        {
          "output_type": "stream",
          "name": "stdout",
          "text": [
            "True\n",
            "False\n",
            "False\n",
            "True\n"
          ]
        }
      ]
    }
  ]
}