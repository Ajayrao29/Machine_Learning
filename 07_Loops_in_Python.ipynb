{
  "nbformat": 4,
  "nbformat_minor": 0,
  "metadata": {
    "colab": {
      "provenance": [],
      "authorship_tag": "ABX9TyMurv1vebcDKyuL0+FgLyOd",
      "include_colab_link": true
    },
    "kernelspec": {
      "name": "python3",
      "display_name": "Python 3"
    },
    "language_info": {
      "name": "python"
    }
  },
  "cells": [
    {
      "cell_type": "markdown",
      "metadata": {
        "id": "view-in-github",
        "colab_type": "text"
      },
      "source": [
        "<a href=\"https://colab.research.google.com/github/Ajayrao29/Machine_Learning_Course/blob/main/07_Loops_in_Python.ipynb\" target=\"_parent\"><img src=\"https://colab.research.google.com/assets/colab-badge.svg\" alt=\"Open In Colab\"/></a>"
      ]
    },
    {
      "cell_type": "markdown",
      "source": [
        "#For Loop"
      ],
      "metadata": {
        "id": "8lP3qyWm10nV"
      }
    },
    {
      "cell_type": "code",
      "source": [
        "#general\n",
        "laptop1=int(input(\"Enter the price of laptop:\"))\n",
        "laptop2=int(input(\"Enter the price of laptop:\"))\n",
        "laptop3=int(input(\"Enter the price of laptop:\"))\n",
        "laptop4=int(input(\"Enter the price of laptop:\"))\n",
        "laptop5=int(input(\"Enter the price of laptop:\"))\n",
        "\n"
      ],
      "metadata": {
        "colab": {
          "base_uri": "https://localhost:8080/"
        },
        "id": "xjxC4uwp2Xyi",
        "outputId": "4a178944-f513-4e89-8b2f-eb6f49bee878"
      },
      "execution_count": 1,
      "outputs": [
        {
          "name": "stdout",
          "output_type": "stream",
          "text": [
            "Enter the price of laptop:100000\n",
            "Enter the price of laptop:40000\n",
            "Enter the price of laptop:25000\n",
            "Enter the price of laptop:55000\n",
            "Enter the price of laptop:35000\n"
          ]
        }
      ]
    },
    {
      "cell_type": "markdown",
      "source": [
        "Actual Method with 'For' loop"
      ],
      "metadata": {
        "id": "WK6EDBrc2zs1"
      }
    },
    {
      "cell_type": "code",
      "source": [
        "#input prices for five laptops with for loop\n",
        "for i in range(5):\n",
        "    price = int(input(\"Enter price of laptop: \"))"
      ],
      "metadata": {
        "colab": {
          "base_uri": "https://localhost:8080/"
        },
        "id": "WNx1pqW714g9",
        "outputId": "9fab7469-0010-4cd9-9640-ce5b75c03ea3"
      },
      "execution_count": 2,
      "outputs": [
        {
          "name": "stdout",
          "output_type": "stream",
          "text": [
            "Enter price of laptop: 25000\n",
            "Enter price of laptop: 100000\n",
            "Enter price of laptop: 50000\n",
            "Enter price of laptop: 30000\n",
            "Enter price of laptop: 15000\n"
          ]
        }
      ]
    },
    {
      "cell_type": "markdown",
      "source": [
        "Example 2"
      ],
      "metadata": {
        "id": "JewXIuCi3XkV"
      }
    },
    {
      "cell_type": "code",
      "source": [
        "numbers = [5,10,15,20,50]\n",
        "print(numbers[0])\n",
        "print(numbers[1])\n",
        "print(numbers[2])\n",
        "print(numbers[3])\n",
        "print(numbers[4])"
      ],
      "metadata": {
        "colab": {
          "base_uri": "https://localhost:8080/"
        },
        "id": "4sjNIFw43Y6F",
        "outputId": "414b4d02-a081-47ee-f49a-59370599578a"
      },
      "execution_count": 3,
      "outputs": [
        {
          "output_type": "stream",
          "name": "stdout",
          "text": [
            "5\n",
            "10\n",
            "15\n",
            "20\n",
            "50\n"
          ]
        }
      ]
    },
    {
      "cell_type": "markdown",
      "source": [
        "    WITH 'For' loop\n",
        "    "
      ],
      "metadata": {
        "id": "nBFOAdqf3lkz"
      }
    },
    {
      "cell_type": "code",
      "source": [
        "numbers = [5,10,15,20,50]\n",
        "for i in numbers:\n",
        "    print(i)"
      ],
      "metadata": {
        "colab": {
          "base_uri": "https://localhost:8080/"
        },
        "id": "h6rrZZVK3sMo",
        "outputId": "529d3d93-8b8c-4a34-e7fb-eff7d29ca76e"
      },
      "execution_count": 4,
      "outputs": [
        {
          "output_type": "stream",
          "name": "stdout",
          "text": [
            "5\n",
            "10\n",
            "15\n",
            "20\n",
            "50\n"
          ]
        }
      ]
    },
    {
      "cell_type": "markdown",
      "source": [
        "#WHILE LOOP"
      ],
      "metadata": {
        "id": "R_mhUPFC3144"
      }
    },
    {
      "cell_type": "markdown",
      "source": [
        "while condition:\n",
        "   statement"
      ],
      "metadata": {
        "id": "g7wCqN8B4QqU"
      }
    },
    {
      "cell_type": "code",
      "source": [
        "i = 0\n",
        "while i < 10:\n",
        "    print(i)\n",
        "    i += 1"
      ],
      "metadata": {
        "colab": {
          "base_uri": "https://localhost:8080/"
        },
        "id": "kukUiSkU36_Q",
        "outputId": "92e9c127-afad-408b-97f7-bc3c6967554e"
      },
      "execution_count": 5,
      "outputs": [
        {
          "output_type": "stream",
          "name": "stdout",
          "text": [
            "0\n",
            "1\n",
            "2\n",
            "3\n",
            "4\n",
            "5\n",
            "6\n",
            "7\n",
            "8\n",
            "9\n"
          ]
        }
      ]
    },
    {
      "cell_type": "code",
      "source": [
        "i = 5\n",
        "while i<3:\n",
        "  print(i)\n",
        "  i+=1\n",
        "\n",
        "#Here we don't get any output as we assigned i with 5 at beginning which then doesn't enter while loop as condition won't satisfy."
      ],
      "metadata": {
        "id": "3VAG_Btm4g9U"
      },
      "execution_count": 9,
      "outputs": []
    }
  ]
}