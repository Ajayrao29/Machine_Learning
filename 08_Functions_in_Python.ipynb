{
  "nbformat": 4,
  "nbformat_minor": 0,
  "metadata": {
    "colab": {
      "provenance": [],
      "authorship_tag": "ABX9TyOK88R0weDqX8GB2mh0uZ9T",
      "include_colab_link": true
    },
    "kernelspec": {
      "name": "python3",
      "display_name": "Python 3"
    },
    "language_info": {
      "name": "python"
    }
  },
  "cells": [
    {
      "cell_type": "markdown",
      "metadata": {
        "id": "view-in-github",
        "colab_type": "text"
      },
      "source": [
        "<a href=\"https://colab.research.google.com/github/Ajayrao29/Machine_Learning_Course/blob/main/08_Functions_in_Python.ipynb\" target=\"_parent\"><img src=\"https://colab.research.google.com/assets/colab-badge.svg\" alt=\"Open In Colab\"/></a>"
      ]
    },
    {
      "cell_type": "markdown",
      "source": [
        "#Functions :\n",
        "\n",
        "Function is a block of code that can be reused in a program\n"
      ],
      "metadata": {
        "id": "uFNY9ju7b3TM"
      }
    },
    {
      "cell_type": "markdown",
      "source": [
        "Example : Factorial of a number\n",
        "\n",
        "->Factorial of a number is a product of all the +ve integers less than or equal to the given number.\n",
        "\n",
        "ex:\n",
        "Factorial of 5 -> 5 x 4 x 3 x 2 x 1 =120"
      ],
      "metadata": {
        "id": "ozF9pD5VcF9f"
      }
    },
    {
      "cell_type": "code",
      "source": [
        "#Factorial code Without using functions\n",
        "n=int(input(\"Enter a number:\"))\n",
        "fact=1\n",
        "if n==0:\n",
        "  print(\"Factorial of 0 is 1\")\n",
        "for i in range(1,n+1): #if n==5 then range(1,6) it means 1 to 5 are considered.\n",
        "  fact=fact*i\n",
        "print(\"Factorial of\",n,\"is\",fact)"
      ],
      "metadata": {
        "colab": {
          "base_uri": "https://localhost:8080/"
        },
        "id": "tDrfKBX9cAvX",
        "outputId": "7a3a85eb-0664-4a33-a915-acc6e60069cd"
      },
      "execution_count": 5,
      "outputs": [
        {
          "output_type": "stream",
          "name": "stdout",
          "text": [
            "Enter a number:5\n",
            "Factorial of 5 is 120\n"
          ]
        }
      ]
    },
    {
      "cell_type": "code",
      "source": [
        "#Factorial code by using functions\n",
        "def factorial(n):\n",
        "  fact=1\n",
        "  if n==0:\n",
        "    return 1\n",
        "  else:\n",
        "    for i in range(1,n+1):\n",
        "      fact=fact*i\n",
        "    return fact"
      ],
      "metadata": {
        "id": "bMyuxtKDdYNl"
      },
      "execution_count": 6,
      "outputs": []
    },
    {
      "cell_type": "code",
      "source": [
        "#Use Case\n",
        "print(factorial(5))\n",
        "print(factorial(10))\n",
        "print(factorial(15))"
      ],
      "metadata": {
        "colab": {
          "base_uri": "https://localhost:8080/"
        },
        "id": "3W1DHh8_d57S",
        "outputId": "cb106b21-84ac-4723-e045-d89c56c991af"
      },
      "execution_count": 7,
      "outputs": [
        {
          "output_type": "stream",
          "name": "stdout",
          "text": [
            "120\n",
            "3628800\n",
            "1307674368000\n"
          ]
        }
      ]
    }
  ]
}