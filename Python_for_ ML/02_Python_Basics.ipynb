{
  "nbformat": 4,
  "nbformat_minor": 0,
  "metadata": {
    "colab": {
      "provenance": []
    },
    "kernelspec": {
      "name": "python3",
      "display_name": "Python 3"
    },
    "language_info": {
      "name": "python"
    }
  },
  "cells": [
    {
      "cell_type": "markdown",
      "source": [
        "#Print Function\n",
        "\n",
        "(Writing it with # before the name of section makes it as a section that helps in enclosing, declosing the section cells by top-down arrows)"
      ],
      "metadata": {
        "id": "cP7dnT2pUO2X"
      }
    },
    {
      "cell_type": "code",
      "source": [
        "print(\"Ajay rao\") #printing"
      ],
      "metadata": {
        "colab": {
          "base_uri": "https://localhost:8080/"
        },
        "id": "wb4oEGq7USdf",
        "outputId": "74d799aa-47d3-4295-c5e5-fb847651af90"
      },
      "execution_count": 7,
      "outputs": [
        {
          "output_type": "stream",
          "name": "stdout",
          "text": [
            "Ajay rao\n"
          ]
        }
      ]
    },
    {
      "cell_type": "code",
      "source": [
        "print(\"Hello\" + \" Everyone!\") #printing by concatenating the strings"
      ],
      "metadata": {
        "colab": {
          "base_uri": "https://localhost:8080/"
        },
        "id": "T7W2HuTqUa0S",
        "outputId": "f317050e-92d0-450c-fc10-eed8819ff37d"
      },
      "execution_count": 9,
      "outputs": [
        {
          "output_type": "stream",
          "name": "stdout",
          "text": [
            "Hello Everyone!\n"
          ]
        }
      ]
    },
    {
      "cell_type": "code",
      "source": [
        "print(10) #printing a number\n",
        "type(10)  #gives datatype"
      ],
      "metadata": {
        "colab": {
          "base_uri": "https://localhost:8080/"
        },
        "id": "-SBSIgtyUyaW",
        "outputId": "2a574395-6ae6-4910-8268-caf4700c0789"
      },
      "execution_count": 5,
      "outputs": [
        {
          "output_type": "stream",
          "name": "stdout",
          "text": [
            "10\n"
          ]
        },
        {
          "output_type": "execute_result",
          "data": {
            "text/plain": [
              "int"
            ]
          },
          "metadata": {},
          "execution_count": 5
        }
      ]
    },
    {
      "cell_type": "code",
      "source": [
        "print(2+9) #printing the addition of two numbers (used addition operator '+')"
      ],
      "metadata": {
        "colab": {
          "base_uri": "https://localhost:8080/"
        },
        "id": "PYgcliGEVLPG",
        "outputId": "f44b4b52-ed69-4072-fa90-d94efe364416"
      },
      "execution_count": 6,
      "outputs": [
        {
          "output_type": "stream",
          "name": "stdout",
          "text": [
            "11\n"
          ]
        }
      ]
    },
    {
      "cell_type": "markdown",
      "source": [
        "Basic data types : int,float,str"
      ],
      "metadata": {
        "id": "ZBKHDCBbXpW8"
      }
    },
    {
      "cell_type": "code",
      "source": [
        "print(type(10)) #int\n",
        "print(type(12.5)) #float\n",
        "print(type('Ajay')) #str"
      ],
      "metadata": {
        "colab": {
          "base_uri": "https://localhost:8080/"
        },
        "id": "Gy7nOOuPXtdr",
        "outputId": "8e69def4-8dae-40e9-e9e9-75bae63591a6"
      },
      "execution_count": 11,
      "outputs": [
        {
          "output_type": "stream",
          "name": "stdout",
          "text": [
            "<class 'int'>\n",
            "<class 'float'>\n",
            "<class 'str'>\n"
          ]
        }
      ]
    },
    {
      "cell_type": "markdown",
      "source": [
        "#Constants & Variables"
      ],
      "metadata": {
        "id": "5vIPCZ8mYRYU"
      }
    },
    {
      "cell_type": "code",
      "source": [
        "super hero=\"Iron Man\"\n",
        "print(super hero)"
      ],
      "metadata": {
        "colab": {
          "base_uri": "https://localhost:8080/",
          "height": 106
        },
        "id": "niwGI4hxYTRb",
        "outputId": "4e49d1fe-41b6-4d41-fc5d-a049c7d3c263"
      },
      "execution_count": 12,
      "outputs": [
        {
          "output_type": "error",
          "ename": "SyntaxError",
          "evalue": "invalid syntax (<ipython-input-12-ca664f2c5808>, line 1)",
          "traceback": [
            "\u001b[0;36m  File \u001b[0;32m\"<ipython-input-12-ca664f2c5808>\"\u001b[0;36m, line \u001b[0;32m1\u001b[0m\n\u001b[0;31m    super hero=\"Iron Man\"\u001b[0m\n\u001b[0m          ^\u001b[0m\n\u001b[0;31mSyntaxError\u001b[0m\u001b[0;31m:\u001b[0m invalid syntax\n"
          ]
        }
      ]
    },
    {
      "cell_type": "markdown",
      "source": [
        "To avoid such error should make variable declared (2 worded) as a single word variable by using symbols such as '_' in between words or by avoiding space between words"
      ],
      "metadata": {
        "id": "aQLl5pXhYuQX"
      }
    },
    {
      "cell_type": "code",
      "source": [
        "super_hero=\"Iron Man\"\n",
        "print(super_hero)\n",
        "#or\n",
        "superhero=\"Iron Man\"\n",
        "print(superhero)"
      ],
      "metadata": {
        "colab": {
          "base_uri": "https://localhost:8080/"
        },
        "id": "rr-aJhljY4R9",
        "outputId": "14372e01-aba2-4487-e880-3aca09c5a1f3"
      },
      "execution_count": 18,
      "outputs": [
        {
          "output_type": "stream",
          "name": "stdout",
          "text": [
            "Iron Man\n",
            "Iron Man\n"
          ]
        }
      ]
    },
    {
      "cell_type": "code",
      "source": [
        "a,b,c=\"CSE\",\"ECE\",\"AIML\" #can be declared together\n",
        "#can be printed individually\n",
        "print(a)\n",
        "print(b)\n",
        "print(c)\n",
        "print(a,b,c) #can be printed altogether"
      ],
      "metadata": {
        "colab": {
          "base_uri": "https://localhost:8080/"
        },
        "id": "KNu7Nv8tZO2S",
        "outputId": "ece76e45-1566-4289-fd9f-1d58f432dd93"
      },
      "execution_count": 15,
      "outputs": [
        {
          "output_type": "stream",
          "name": "stdout",
          "text": [
            "CSE\n",
            "ECE\n",
            "AIML\n",
            "CSE ECE AIML\n"
          ]
        }
      ]
    },
    {
      "cell_type": "code",
      "source": [
        "x=y=z=10 #same value can be assigned together\n",
        "print(x)\n",
        "print(y)\n",
        "print(z)\n",
        "print(x,y,z)"
      ],
      "metadata": {
        "colab": {
          "base_uri": "https://localhost:8080/"
        },
        "id": "YcLT6ybuZzgI",
        "outputId": "25387552-d680-44e5-ca5a-acd6ad27d498"
      },
      "execution_count": 17,
      "outputs": [
        {
          "output_type": "stream",
          "name": "stdout",
          "text": [
            "10\n",
            "10\n",
            "10\n",
            "10 10 10\n"
          ]
        }
      ]
    },
    {
      "cell_type": "markdown",
      "source": [
        "#Input Function\n"
      ],
      "metadata": {
        "id": "VGUMizZJadqY"
      }
    },
    {
      "cell_type": "code",
      "source": [
        "n1=input(\"Enter a number : \")\n",
        "n2=input(\"Enter a number : \")\n",
        "sum=n1+n2\n",
        "print(sum)"
      ],
      "metadata": {
        "colab": {
          "base_uri": "https://localhost:8080/"
        },
        "id": "lCgtE9icagE1",
        "outputId": "6be24a05-0486-4507-e271-0fc6f15b05ea"
      },
      "execution_count": 19,
      "outputs": [
        {
          "output_type": "stream",
          "name": "stdout",
          "text": [
            "Enter a number : 10\n",
            "Enter a number : 5\n",
            "105\n"
          ]
        }
      ]
    },
    {
      "cell_type": "markdown",
      "source": [
        "Here above input is considereed as a string by default so 10+5 return 105 as it concatenates a string\n",
        "\n",
        "To get sum we can write as below :"
      ],
      "metadata": {
        "id": "d9WVmB0sa4Ku"
      }
    },
    {
      "cell_type": "code",
      "source": [
        "n1=int(input(\"Enter a number : \")) #giving int beforehand makes it to consider as a number\n",
        "n2=int(input(\"Enter a number : \"))\n",
        "sum=n1+n2\n",
        "print(sum)"
      ],
      "metadata": {
        "colab": {
          "base_uri": "https://localhost:8080/"
        },
        "id": "yjCsk5tdbIqc",
        "outputId": "a50c870e-e767-40f6-a36b-38920aa5aa03"
      },
      "execution_count": 20,
      "outputs": [
        {
          "output_type": "stream",
          "name": "stdout",
          "text": [
            "Enter a number : 10\n",
            "Enter a number : 5\n",
            "15\n"
          ]
        }
      ]
    },
    {
      "cell_type": "code",
      "source": [
        "#changing the datatype in python:\n",
        "n=5\n",
        "print(n)\n",
        "print(type(n))\n",
        "n=float(n) #changing to float\n",
        "print(n)\n",
        "print(type(n))"
      ],
      "metadata": {
        "colab": {
          "base_uri": "https://localhost:8080/"
        },
        "id": "i35bblaIbei9",
        "outputId": "80f8e76f-1448-4888-babc-ea20602f470a"
      },
      "execution_count": 26,
      "outputs": [
        {
          "output_type": "stream",
          "name": "stdout",
          "text": [
            "5\n",
            "<class 'int'>\n",
            "5.0\n",
            "<class 'float'>\n"
          ]
        }
      ]
    },
    {
      "cell_type": "code",
      "source": [],
      "metadata": {
        "id": "0Z3wP0GXbhW4"
      },
      "execution_count": null,
      "outputs": []
    }
  ]
}