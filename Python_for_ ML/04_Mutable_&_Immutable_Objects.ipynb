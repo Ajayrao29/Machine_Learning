{
  "nbformat": 4,
  "nbformat_minor": 0,
  "metadata": {
    "colab": {
      "provenance": [],
      "authorship_tag": "ABX9TyMheJaWLqK+nnR/tpVKX/YZ",
      "include_colab_link": true
    },
    "kernelspec": {
      "name": "python3",
      "display_name": "Python 3"
    },
    "language_info": {
      "name": "python"
    }
  },
  "cells": [
    {
      "cell_type": "markdown",
      "metadata": {
        "id": "view-in-github",
        "colab_type": "text"
      },
      "source": [
        "<a href=\"https://colab.research.google.com/github/Ajayrao29/Coding-DSA/blob/main/Mutable_%26_Immutable_Objects.ipynb\" target=\"_parent\"><img src=\"https://colab.research.google.com/assets/colab-badge.svg\" alt=\"Open In Colab\"/></a>"
      ]
    },
    {
      "cell_type": "markdown",
      "source": [
        "Types of Objects in Python :\n",
        "\n",
        "1.   Immutable Objects\n",
        "2.   Mutable Objects\n",
        "\n"
      ],
      "metadata": {
        "id": "aHzT0Fgsaej1"
      }
    },
    {
      "cell_type": "markdown",
      "source": [
        "Immutable Objects : Values cannot be changed once it created\n",
        "\n",
        "1.   int\n",
        "2.   float\n",
        "3.   string\n",
        "4.   bool\n",
        "5.   tuple\n",
        "\n"
      ],
      "metadata": {
        "id": "XiRLI-iTaulp"
      }
    },
    {
      "cell_type": "markdown",
      "source": [
        "Mutable Objects: Values can be changed any no.of times after creation.\n",
        "\n",
        "\n",
        "1.   List\n",
        "2.   Set\n",
        "3.   Dictionary\n",
        "\n"
      ],
      "metadata": {
        "id": "llymptvQa8wg"
      }
    },
    {
      "cell_type": "markdown",
      "source": [
        "#LIST :\n",
        "Mutable (can be changed even after creation)\n",
        "\n",
        "Created using [] braces."
      ],
      "metadata": {
        "id": "27OEZQ2Jba0l"
      }
    },
    {
      "cell_type": "code",
      "source": [
        "#List should be enclosed in the square bracket\n",
        "my_list=[1,2,3,4]\n",
        "print(my_list)\n",
        "type(my_list)"
      ],
      "metadata": {
        "colab": {
          "base_uri": "https://localhost:8080/"
        },
        "id": "beno7q-iayny",
        "outputId": "241c0e90-96d9-4b2c-deef-ec63ef39358b"
      },
      "execution_count": 1,
      "outputs": [
        {
          "output_type": "stream",
          "name": "stdout",
          "text": [
            "[1, 2, 3, 4]\n"
          ]
        },
        {
          "output_type": "execute_result",
          "data": {
            "text/plain": [
              "list"
            ]
          },
          "metadata": {},
          "execution_count": 1
        }
      ]
    },
    {
      "cell_type": "code",
      "source": [
        "#list can contain elements of multiple datatypes\n",
        "my_list=[1,2,True,\"Ajay\"]\n",
        "print(my_list)"
      ],
      "metadata": {
        "colab": {
          "base_uri": "https://localhost:8080/"
        },
        "id": "mqd9dJ1Rb6iZ",
        "outputId": "9513c7bd-ea5d-4f36-f598-d24e761e1195"
      },
      "execution_count": 2,
      "outputs": [
        {
          "output_type": "stream",
          "name": "stdout",
          "text": [
            "[1, 2, True, 'Ajay']\n"
          ]
        }
      ]
    },
    {
      "cell_type": "markdown",
      "source": [
        "Lists are mutable so we can change elements in it even after creation."
      ],
      "metadata": {
        "id": "gYIy51NicJJm"
      }
    },
    {
      "cell_type": "code",
      "source": [
        "my_list.append(4) #it adds element to previously created list\n",
        "print(my_list)"
      ],
      "metadata": {
        "colab": {
          "base_uri": "https://localhost:8080/"
        },
        "id": "G9qzxHcTcT1l",
        "outputId": "123e8cd5-e177-4bc6-8d1d-79a3dd5771bb"
      },
      "execution_count": 3,
      "outputs": [
        {
          "output_type": "stream",
          "name": "stdout",
          "text": [
            "[1, 2, True, 'Ajay', 4]\n"
          ]
        }
      ]
    },
    {
      "cell_type": "markdown",
      "source": [
        "Accessing elements in list"
      ],
      "metadata": {
        "id": "zO3x8YFHcoBw"
      }
    },
    {
      "cell_type": "code",
      "source": [
        "print(my_list[0])\n",
        "print(my_list[3])"
      ],
      "metadata": {
        "colab": {
          "base_uri": "https://localhost:8080/"
        },
        "id": "LiCqXtDucq-P",
        "outputId": "ef06cb51-6498-4931-bff4-bf8a521bd387"
      },
      "execution_count": 4,
      "outputs": [
        {
          "output_type": "stream",
          "name": "stdout",
          "text": [
            "1\n",
            "Ajay\n"
          ]
        }
      ]
    },
    {
      "cell_type": "markdown",
      "source": [
        "lists allow duplicate or repeated values"
      ],
      "metadata": {
        "id": "10dfGKfmcze4"
      }
    },
    {
      "cell_type": "code",
      "source": [
        "list1=[1,2,3,4,5,1,2]\n",
        "print(list1)"
      ],
      "metadata": {
        "colab": {
          "base_uri": "https://localhost:8080/"
        },
        "id": "TDdbfhJDc2W6",
        "outputId": "8a7cab7e-9f53-4a50-f6e4-a0d7b690507c"
      },
      "execution_count": 5,
      "outputs": [
        {
          "output_type": "stream",
          "name": "stdout",
          "text": [
            "[1, 2, 3, 4, 5, 1, 2]\n"
          ]
        }
      ]
    },
    {
      "cell_type": "markdown",
      "source": [
        "checking no.of elements present in list by using len function"
      ],
      "metadata": {
        "id": "RlZ93thyc_C5"
      }
    },
    {
      "cell_type": "code",
      "source": [
        "print(len(list1))"
      ],
      "metadata": {
        "colab": {
          "base_uri": "https://localhost:8080/"
        },
        "id": "NLvm-CUqdBlc",
        "outputId": "4862bd48-7344-4f8c-e93e-4b29ac82113f"
      },
      "execution_count": 6,
      "outputs": [
        {
          "output_type": "stream",
          "name": "stdout",
          "text": [
            "7\n"
          ]
        }
      ]
    },
    {
      "cell_type": "markdown",
      "source": [
        "creating an empty list and appending elements to it"
      ],
      "metadata": {
        "id": "kJV0fG9OdRo4"
      }
    },
    {
      "cell_type": "code",
      "source": [
        "list2=[]\n",
        "print(list2)\n",
        "list2.append(1)\n",
        "list2.append(2)\n",
        "list2.append(3)\n",
        "list2.append(4)\n",
        "print(list2)"
      ],
      "metadata": {
        "colab": {
          "base_uri": "https://localhost:8080/"
        },
        "id": "4_uNat52dUuO",
        "outputId": "1750e8aa-00f1-40c3-80b9-5e86ca5b3d19"
      },
      "execution_count": 7,
      "outputs": [
        {
          "output_type": "stream",
          "name": "stdout",
          "text": [
            "[]\n",
            "[1, 2, 3, 4]\n"
          ]
        }
      ]
    },
    {
      "cell_type": "markdown",
      "source": [
        "deleting an element from the list"
      ],
      "metadata": {
        "id": "bH5HQQtFyetr"
      }
    },
    {
      "cell_type": "code",
      "source": [
        "#method1\n",
        "list2.remove(2) #specifying element here\n",
        "print(list2)\n",
        "#method2\n",
        "del list2[1] #specifying the index here\n",
        "print(list2)"
      ],
      "metadata": {
        "colab": {
          "base_uri": "https://localhost:8080/"
        },
        "id": "MvP9U_iPyiAE",
        "outputId": "d9413577-85b6-4673-e7b3-0ad24d07285e"
      },
      "execution_count": 8,
      "outputs": [
        {
          "output_type": "stream",
          "name": "stdout",
          "text": [
            "[1, 3, 4]\n",
            "[1, 4]\n"
          ]
        }
      ]
    },
    {
      "cell_type": "markdown",
      "source": [
        "Joining two lists"
      ],
      "metadata": {
        "id": "Sm6QppHPzSPp"
      }
    },
    {
      "cell_type": "code",
      "source": [
        "list3=[1,2,3,4]\n",
        "list4=[5,6,7,8]\n",
        "list5=list3+list4 #two lists are combined\n",
        "print(list5)"
      ],
      "metadata": {
        "colab": {
          "base_uri": "https://localhost:8080/"
        },
        "id": "P0mY1TfBzT1n",
        "outputId": "d960ae0d-0d20-4123-fb6d-7a8e5025a535"
      },
      "execution_count": 9,
      "outputs": [
        {
          "output_type": "stream",
          "name": "stdout",
          "text": [
            "[1, 2, 3, 4, 5, 6, 7, 8]\n"
          ]
        }
      ]
    },
    {
      "cell_type": "markdown",
      "source": [
        "#TUPLE :\n",
        "Once created it cannot be changed(Immutable).\n",
        "\n",
        "created by using () braces"
      ],
      "metadata": {
        "id": "ryRaVfBHze7v"
      }
    },
    {
      "cell_type": "code",
      "source": [
        "tup1=(1,2,3,4)\n",
        "print(tup1)\n",
        "type(tup1)"
      ],
      "metadata": {
        "colab": {
          "base_uri": "https://localhost:8080/"
        },
        "id": "yDwiSE05znD9",
        "outputId": "5dc0e4a8-c6c0-4a5e-edb3-08260c616898"
      },
      "execution_count": 10,
      "outputs": [
        {
          "output_type": "stream",
          "name": "stdout",
          "text": [
            "(1, 2, 3, 4)\n"
          ]
        },
        {
          "output_type": "execute_result",
          "data": {
            "text/plain": [
              "tuple"
            ]
          },
          "metadata": {},
          "execution_count": 10
        }
      ]
    },
    {
      "cell_type": "code",
      "source": [
        "#tuple allows multiple datatypes\n",
        "tup2=(1,2,True,\"Ajay\")\n",
        "print(tup2)"
      ],
      "metadata": {
        "colab": {
          "base_uri": "https://localhost:8080/"
        },
        "id": "BLN-ncD-zxQ7",
        "outputId": "b88fe135-2a0a-4233-f4e7-e7fe61dc6b82"
      },
      "execution_count": 11,
      "outputs": [
        {
          "output_type": "stream",
          "name": "stdout",
          "text": [
            "(1, 2, True, 'Ajay')\n"
          ]
        }
      ]
    },
    {
      "cell_type": "markdown",
      "source": [
        "Converting a List into Tuple"
      ],
      "metadata": {
        "id": "OkaA7BaKz4Un"
      }
    },
    {
      "cell_type": "code",
      "source": [
        "my_list=[1,2,3,4]\n",
        "print(my_list)\n",
        "\n",
        "my_tup=tuple(my_list) #converting list to tuple\n",
        "print(my_tup)"
      ],
      "metadata": {
        "colab": {
          "base_uri": "https://localhost:8080/"
        },
        "id": "EWDNH8Qy0DLM",
        "outputId": "1788dc0a-2f6f-4409-bd0f-67dbfebb28b1"
      },
      "execution_count": 12,
      "outputs": [
        {
          "output_type": "stream",
          "name": "stdout",
          "text": [
            "[1, 2, 3, 4]\n",
            "(1, 2, 3, 4)\n"
          ]
        }
      ]
    },
    {
      "cell_type": "code",
      "source": [
        "#Accessing elementsj  in tuple\n",
        "print(my_tup[0])\n"
      ],
      "metadata": {
        "colab": {
          "base_uri": "https://localhost:8080/"
        },
        "id": "fwulDHy20U1x",
        "outputId": "abf4f58e-ae80-450d-9bec-4c26896068e2"
      },
      "execution_count": 13,
      "outputs": [
        {
          "output_type": "stream",
          "name": "stdout",
          "text": [
            "1\n"
          ]
        }
      ]
    },
    {
      "cell_type": "markdown",
      "source": [
        "As tuples are immutable we cannot change them once created.So, using append function with tuple gives error."
      ],
      "metadata": {
        "id": "SamH6g9-11Lg"
      }
    },
    {
      "cell_type": "code",
      "source": [
        "my_tup.append(10)"
      ],
      "metadata": {
        "colab": {
          "base_uri": "https://localhost:8080/",
          "height": 141
        },
        "id": "Gv-uKkr82CB0",
        "outputId": "e506120c-2a32-4ee2-80dd-736d5a77393f"
      },
      "execution_count": 14,
      "outputs": [
        {
          "output_type": "error",
          "ename": "AttributeError",
          "evalue": "'tuple' object has no attribute 'append'",
          "traceback": [
            "\u001b[0;31m---------------------------------------------------------------------------\u001b[0m",
            "\u001b[0;31mAttributeError\u001b[0m                            Traceback (most recent call last)",
            "\u001b[0;32m<ipython-input-14-799a62138520>\u001b[0m in \u001b[0;36m<cell line: 1>\u001b[0;34m()\u001b[0m\n\u001b[0;32m----> 1\u001b[0;31m \u001b[0mmy_tup\u001b[0m\u001b[0;34m.\u001b[0m\u001b[0mappend\u001b[0m\u001b[0;34m(\u001b[0m\u001b[0;36m10\u001b[0m\u001b[0;34m)\u001b[0m\u001b[0;34m\u001b[0m\u001b[0;34m\u001b[0m\u001b[0m\n\u001b[0m",
            "\u001b[0;31mAttributeError\u001b[0m: 'tuple' object has no attribute 'append'"
          ]
        }
      ]
    },
    {
      "cell_type": "markdown",
      "source": [
        "Find no.of elements in tuple by using len function"
      ],
      "metadata": {
        "id": "wd98g3-M2IFb"
      }
    },
    {
      "cell_type": "code",
      "source": [
        "print(len(my_tup))"
      ],
      "metadata": {
        "colab": {
          "base_uri": "https://localhost:8080/"
        },
        "id": "BS1n7HI82fF1",
        "outputId": "481dba59-4d9c-4326-e2c2-33b25f23c669"
      },
      "execution_count": 15,
      "outputs": [
        {
          "output_type": "stream",
          "name": "stdout",
          "text": [
            "4\n"
          ]
        }
      ]
    },
    {
      "cell_type": "markdown",
      "source": [
        "#SET :\n",
        "Values can be changed even after creation.(Mutable)\n",
        "\n",
        "Created using {} braces"
      ],
      "metadata": {
        "id": "4WY-tKTK2qQx"
      }
    },
    {
      "cell_type": "code",
      "source": [
        "set1={1,2,3,4}\n",
        "print(set1)\n",
        "type(set1)"
      ],
      "metadata": {
        "colab": {
          "base_uri": "https://localhost:8080/"
        },
        "id": "iv12Olce2ieA",
        "outputId": "1b86d7d3-85c2-4c6a-9289-59a2c67e7d5a"
      },
      "execution_count": 16,
      "outputs": [
        {
          "output_type": "stream",
          "name": "stdout",
          "text": [
            "{1, 2, 3, 4}\n"
          ]
        },
        {
          "output_type": "execute_result",
          "data": {
            "text/plain": [
              "set"
            ]
          },
          "metadata": {},
          "execution_count": 16
        }
      ]
    },
    {
      "cell_type": "markdown",
      "source": [
        "Accessing elements(indexing) is not supported in set."
      ],
      "metadata": {
        "id": "e0I3skfn4-LJ"
      }
    },
    {
      "cell_type": "code",
      "source": [
        "print(set1[0])"
      ],
      "metadata": {
        "colab": {
          "base_uri": "https://localhost:8080/",
          "height": 141
        },
        "id": "TNZf07NA5NaN",
        "outputId": "63808319-d138-4cef-e705-c1086613e94a"
      },
      "execution_count": 17,
      "outputs": [
        {
          "output_type": "error",
          "ename": "TypeError",
          "evalue": "'set' object is not subscriptable",
          "traceback": [
            "\u001b[0;31m---------------------------------------------------------------------------\u001b[0m",
            "\u001b[0;31mTypeError\u001b[0m                                 Traceback (most recent call last)",
            "\u001b[0;32m<ipython-input-17-ca90c6e7048b>\u001b[0m in \u001b[0;36m<cell line: 1>\u001b[0;34m()\u001b[0m\n\u001b[0;32m----> 1\u001b[0;31m \u001b[0mprint\u001b[0m\u001b[0;34m(\u001b[0m\u001b[0mset1\u001b[0m\u001b[0;34m[\u001b[0m\u001b[0;36m0\u001b[0m\u001b[0;34m]\u001b[0m\u001b[0;34m)\u001b[0m\u001b[0;34m\u001b[0m\u001b[0;34m\u001b[0m\u001b[0m\n\u001b[0m",
            "\u001b[0;31mTypeError\u001b[0m: 'set' object is not subscriptable"
          ]
        }
      ]
    },
    {
      "cell_type": "markdown",
      "source": [
        "Converting a list to a set"
      ],
      "metadata": {
        "id": "eY0GMP0V5RfV"
      }
    },
    {
      "cell_type": "code",
      "source": [
        "list10=[1,2,3,4]\n",
        "print(list10)\n",
        "\n",
        "x=set(list10)#converting list to a set\n",
        "print(x)"
      ],
      "metadata": {
        "colab": {
          "base_uri": "https://localhost:8080/"
        },
        "id": "_Kqmj3i45Ufj",
        "outputId": "57784295-4084-4d00-cf89-193cabf8e070"
      },
      "execution_count": 18,
      "outputs": [
        {
          "output_type": "stream",
          "name": "stdout",
          "text": [
            "[1, 2, 3, 4]\n",
            "{1, 2, 3, 4}\n"
          ]
        }
      ]
    },
    {
      "cell_type": "markdown",
      "source": [
        "SET doesn't allow duplicate values"
      ],
      "metadata": {
        "id": "4jZzcGCa5j8B"
      }
    },
    {
      "cell_type": "code",
      "source": [
        "set2={1,2,3,4,1,2}\n",
        "print(set2) #repeated values are removed and prints output"
      ],
      "metadata": {
        "colab": {
          "base_uri": "https://localhost:8080/"
        },
        "id": "hEzIT5XP5qiQ",
        "outputId": "80118ff1-4d69-41e9-902e-959107503243"
      },
      "execution_count": 19,
      "outputs": [
        {
          "output_type": "stream",
          "name": "stdout",
          "text": [
            "{1, 2, 3, 4}\n"
          ]
        }
      ]
    },
    {
      "cell_type": "markdown",
      "source": [
        "#Dictionary:\n",
        "\n",
        "Mutable(Changeable even after creation)\n",
        "\n",
        "{key:value} pair representation.\n"
      ],
      "metadata": {
        "id": "O2cNFRFk5x_r"
      }
    },
    {
      "cell_type": "code",
      "source": [
        "dic={'Name': 'Ajay','Age':20,'Country':'India'}\n",
        "print(dic)\n",
        "type(dic)"
      ],
      "metadata": {
        "colab": {
          "base_uri": "https://localhost:8080/"
        },
        "id": "UFzWPfYL6Ec2",
        "outputId": "34366f40-9f8e-4c5c-fae2-acf53b18d620"
      },
      "execution_count": 21,
      "outputs": [
        {
          "output_type": "stream",
          "name": "stdout",
          "text": [
            "{'Name': 'Ajay', 'Age': 20, 'Country': 'India'}\n"
          ]
        },
        {
          "output_type": "execute_result",
          "data": {
            "text/plain": [
              "dict"
            ]
          },
          "metadata": {},
          "execution_count": 21
        }
      ]
    },
    {
      "cell_type": "markdown",
      "source": [
        "Accessing in dictionary"
      ],
      "metadata": {
        "id": "TMhojxOY6w7t"
      }
    },
    {
      "cell_type": "code",
      "source": [
        "print(dic['Name'])"
      ],
      "metadata": {
        "colab": {
          "base_uri": "https://localhost:8080/"
        },
        "id": "BRf9O_iW6y5j",
        "outputId": "4c4dacd5-4774-4d8b-b436-bc1bbe77414b"
      },
      "execution_count": 22,
      "outputs": [
        {
          "output_type": "stream",
          "name": "stdout",
          "text": [
            "Ajay\n"
          ]
        }
      ]
    },
    {
      "cell_type": "markdown",
      "source": [
        "Dictionary does not allow duplicate values"
      ],
      "metadata": {
        "id": "zPSbIntW7Jh2"
      }
    },
    {
      "cell_type": "code",
      "source": [
        "dic2={'Name':'Ajay','Age':20,'Country':'India','Name':'Ajay','Age':20,'Country':'India'}\n",
        "print(dic2) #output return with removed repeated values from dic"
      ],
      "metadata": {
        "colab": {
          "base_uri": "https://localhost:8080/"
        },
        "id": "o3D_06wy7MwX",
        "outputId": "8109596e-87bf-4078-f689-4ab74c9b7522"
      },
      "execution_count": 24,
      "outputs": [
        {
          "output_type": "stream",
          "name": "stdout",
          "text": [
            "{'Name': 'Ajay', 'Age': 20, 'Country': 'India'}\n"
          ]
        }
      ]
    }
  ]
}